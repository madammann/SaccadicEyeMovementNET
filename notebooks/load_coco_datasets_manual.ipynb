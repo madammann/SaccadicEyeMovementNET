{
  "nbformat": 4,
  "nbformat_minor": 0,
  "metadata": {
    "colab": {
      "name": "load_coco_datasets_manually.ipynb",
      "provenance": [],
      "collapsed_sections": []
    },
    "kernelspec": {
      "name": "python3",
      "display_name": "Python 3"
    },
    "language_info": {
      "name": "python"
    },
    "accelerator": "GPU"
  },
  "cells": [
    {
      "cell_type": "markdown",
      "source": [
        "Install the dataset\n"
      ],
      "metadata": {
        "id": "a6twaCXVI7KH"
      }
    },
    {
      "cell_type": "code",
      "source": [
        "!pip install CocoDataset==0.1.2"
      ],
      "metadata": {
        "colab": {
          "base_uri": "https://localhost:8080/"
        },
        "id": "ZkXyQ264I-6B",
        "outputId": "1d5761ce-5a9d-47b3-93f8-44252f6da0af"
      },
      "execution_count": 49,
      "outputs": [
        {
          "output_type": "stream",
          "name": "stdout",
          "text": [
            "Requirement already satisfied: CocoDataset==0.1.2 in /usr/local/lib/python3.7/dist-packages (0.1.2)\n",
            "Requirement already satisfied: pycocotools in /usr/local/lib/python3.7/dist-packages (from CocoDataset==0.1.2) (2.0.4)\n",
            "Requirement already satisfied: numpy in /usr/local/lib/python3.7/dist-packages (from pycocotools->CocoDataset==0.1.2) (1.21.5)\n",
            "Requirement already satisfied: matplotlib>=2.1.0 in /usr/local/lib/python3.7/dist-packages (from pycocotools->CocoDataset==0.1.2) (3.2.2)\n",
            "Requirement already satisfied: kiwisolver>=1.0.1 in /usr/local/lib/python3.7/dist-packages (from matplotlib>=2.1.0->pycocotools->CocoDataset==0.1.2) (1.3.2)\n",
            "Requirement already satisfied: pyparsing!=2.0.4,!=2.1.2,!=2.1.6,>=2.0.1 in /usr/local/lib/python3.7/dist-packages (from matplotlib>=2.1.0->pycocotools->CocoDataset==0.1.2) (3.0.7)\n",
            "Requirement already satisfied: python-dateutil>=2.1 in /usr/local/lib/python3.7/dist-packages (from matplotlib>=2.1.0->pycocotools->CocoDataset==0.1.2) (2.8.2)\n",
            "Requirement already satisfied: cycler>=0.10 in /usr/local/lib/python3.7/dist-packages (from matplotlib>=2.1.0->pycocotools->CocoDataset==0.1.2) (0.11.0)\n",
            "Requirement already satisfied: six>=1.5 in /usr/local/lib/python3.7/dist-packages (from python-dateutil>=2.1->matplotlib>=2.1.0->pycocotools->CocoDataset==0.1.2) (1.15.0)\n"
          ]
        }
      ]
    },
    {
      "cell_type": "markdown",
      "source": [
        "we build the data with https://www.tensorflow.org/datasets/api_docs/python/tfds/folder_dataset/ImageFolder, \n",
        "\n",
        "tfds.folder_dataset.ImageFolder, needs to have an specific stracture. (check the documentation)\n",
        "\n",
        "\n",
        "Now, we create the stracture, but befire we need to mount the drive from left side panel-> files -> click mount drive"
      ],
      "metadata": {
        "id": "uuHTUhKUdK_x"
      }
    },
    {
      "cell_type": "code",
      "source": [
        "!pwd"
      ],
      "metadata": {
        "colab": {
          "base_uri": "https://localhost:8080/"
        },
        "id": "yfsH5qWwObBF",
        "outputId": "6942006f-0d5a-44b1-abe3-3840979d4050"
      },
      "execution_count": 70,
      "outputs": [
        {
          "output_type": "stream",
          "name": "stdout",
          "text": [
            "/content/drive/MyDrive/coco_data/train\n"
          ]
        }
      ]
    },
    {
      "cell_type": "markdown",
      "source": [
        "mount the drive and select the directory\n",
        "\n",
        "first, we set the training directory"
      ],
      "metadata": {
        "id": "G_G-gK6TQpDX"
      }
    },
    {
      "cell_type": "code",
      "source": [
        "cd /content/drive/MyDrive/coco_data/train\n"
      ],
      "metadata": {
        "colab": {
          "base_uri": "https://localhost:8080/"
        },
        "id": "735n4Xq6PrPJ",
        "outputId": "f47cb9ac-f0e5-406e-9f56-6c13f519230d"
      },
      "execution_count": 69,
      "outputs": [
        {
          "output_type": "stream",
          "name": "stdout",
          "text": [
            "/content/drive/MyDrive/coco_data/train\n"
          ]
        }
      ]
    },
    {
      "cell_type": "markdown",
      "source": [
        "Download the annotations"
      ],
      "metadata": {
        "id": "TK6ClLjhJWdz"
      }
    },
    {
      "cell_type": "code",
      "source": [
        "!wget http://images.cocodataset.org/annotations/annotations_trainval2014.zip\n",
        "!unzip /content/drive/MyDrive/coco_data/test/annotations_trainval2014.zip\n",
        "\n",
        "\n",
        "\n"
      ],
      "metadata": {
        "colab": {
          "base_uri": "https://localhost:8080/"
        },
        "id": "CuLsPba0JYth",
        "outputId": "3a602e1e-0e06-4f15-89c4-6c7a0a1e52b2"
      },
      "execution_count": 65,
      "outputs": [
        {
          "output_type": "stream",
          "name": "stdout",
          "text": [
            "--2022-03-13 21:19:05--  http://images.cocodataset.org/annotations/annotations_trainval2014.zip\n",
            "Resolving images.cocodataset.org (images.cocodataset.org)... 52.217.86.20\n",
            "Connecting to images.cocodataset.org (images.cocodataset.org)|52.217.86.20|:80... connected.\n",
            "HTTP request sent, awaiting response... 200 OK\n",
            "Length: 252872794 (241M) [application/zip]\n",
            "Saving to: ‘annotations_trainval2014.zip’\n",
            "\n",
            "annotations_trainva 100%[===================>] 241.16M  33.5MB/s    in 7.0s    \n",
            "\n",
            "2022-03-13 21:19:12 (34.6 MB/s) - ‘annotations_trainval2014.zip’ saved [252872794/252872794]\n",
            "\n",
            "Archive:  /content/drive/MyDrive/coco_data/test/annotations_trainval2014.zip\n",
            "  inflating: annotations/instances_train2014.json  \n",
            "  inflating: annotations/instances_val2014.json  \n",
            "  inflating: annotations/person_keypoints_train2014.json  \n",
            "  inflating: annotations/person_keypoints_val2014.json  \n",
            "  inflating: annotations/captions_train2014.json  \n",
            "  inflating: annotations/captions_val2014.json  \n"
          ]
        }
      ]
    },
    {
      "cell_type": "markdown",
      "source": [
        "class names for downloading\n"
      ],
      "metadata": {
        "id": "nqG9j0Y2JkZo"
      }
    },
    {
      "cell_type": "code",
      "source": [
        "classes = ['airplane', \"apple\", \"banana\", \"boat\", \"bus\", \"car\",\"person\",\"bicycle\",\"bird\",\"book\"]"
      ],
      "metadata": {
        "id": "o5aVmacEJjgE"
      },
      "execution_count": 56,
      "outputs": []
    },
    {
      "cell_type": "markdown",
      "source": [
        "write the function to download the class with annotations and save it to content folder"
      ],
      "metadata": {
        "id": "CgDdafVuKaNf"
      }
    },
    {
      "cell_type": "code",
      "source": [
        "from coco_dataset import coco_dataset_download as cocod\n",
        "\n",
        "\n",
        "def manual_download(names):\n",
        "  class_name=names  #class name example \n",
        "  images_count=15       #count of images  \n",
        "  annotations_path='/content/drive/MyDrive/coco_data/test/annotations/instances_train2014.json' #path of coco dataset annotations \n",
        "  #call download function \n",
        "  cocod.coco_dataset_download(class_name,images_count,annotations_path)\n",
        "\n",
        "\n",
        "\n"
      ],
      "metadata": {
        "id": "bFPPoft8KZU1"
      },
      "execution_count": 66,
      "outputs": []
    },
    {
      "cell_type": "code",
      "source": [
        "for i in classes:\n",
        "  manual_download(i)\n",
        "  "
      ],
      "metadata": {
        "id": "oT7_1AF7LCaC"
      },
      "execution_count": null,
      "outputs": []
    },
    {
      "cell_type": "code",
      "source": [
        "# for removing the annotations\n",
        "!rm -rf annotations"
      ],
      "metadata": {
        "id": "6U7q_HUFbCMa"
      },
      "execution_count": null,
      "outputs": []
    },
    {
      "cell_type": "markdown",
      "source": [
        "Now we set the test directory and download the daata these"
      ],
      "metadata": {
        "id": "Pi1MqBPxa-N6"
      }
    },
    {
      "cell_type": "code",
      "source": [
        "cd /content/drive/MyDrive/coco_data/test"
      ],
      "metadata": {
        "id": "5GpdzaiTa9d4"
      },
      "execution_count": null,
      "outputs": []
    },
    {
      "cell_type": "code",
      "source": [
        "!wget http://images.cocodataset.org/annotations/annotations_trainval2014.zip\n",
        "!unzip /content/drive/MyDrive/coco_data/test/annotations_trainval2014.zip\n",
        "\n",
        "\n",
        "\n"
      ],
      "metadata": {
        "id": "LLLKppTWa3iG"
      },
      "execution_count": null,
      "outputs": []
    },
    {
      "cell_type": "code",
      "source": [
        "from coco_dataset import coco_dataset_download as cocod\n",
        "\n",
        "\n",
        "def manual_download(names):\n",
        "  class_name=names  #class name example \n",
        "  images_count=15       #count of images  \n",
        "  annotations_path='/content/drive/MyDrive/coco_data/test/annotations/instances_val2014.json' #path of coco dataset annotations \n",
        "  #call download function \n",
        "  cocod.coco_dataset_download(class_name,images_count,annotations_path)\n"
      ],
      "metadata": {
        "id": "XVBkZ5z5bLCH"
      },
      "execution_count": null,
      "outputs": []
    },
    {
      "cell_type": "code",
      "source": [
        "for i in classes:\n",
        "  manual_download(i)"
      ],
      "metadata": {
        "id": "PRorjyG9bLEl"
      },
      "execution_count": null,
      "outputs": []
    },
    {
      "cell_type": "code",
      "source": [
        "# for removing the annotations\n",
        "!rm -rf annotations"
      ],
      "metadata": {
        "id": "qDpQWBKgcj8P"
      },
      "execution_count": null,
      "outputs": []
    },
    {
      "cell_type": "markdown",
      "source": [
        "now we build the data from folder as tensors\n"
      ],
      "metadata": {
        "id": "YMz3iNQaMenx"
      }
    },
    {
      "cell_type": "code",
      "source": [
        "import tensorflow_datasets as tfds\n",
        "import tensorflow as tf\n",
        "import numpy as np\n",
        "\n",
        "builder = tfds.ImageFolder('/content/drive/MyDrive/coco_data/')\n",
        "print(builder.info)  # num examples, labels... are automatically calculated\n",
        "dataset = builder.as_dataset(shuffle_files=True, as_supervised = True)\n",
        "train_ds, test_ds = dataset[\"train\"], dataset[\"test\"]"
      ],
      "metadata": {
        "colab": {
          "base_uri": "https://localhost:8080/"
        },
        "id": "wilDs_EiKirG",
        "outputId": "695d3544-eb62-49ef-a2ca-acb22b6339d8"
      },
      "execution_count": 2,
      "outputs": [
        {
          "output_type": "stream",
          "name": "stdout",
          "text": [
            "tfds.core.DatasetInfo(\n",
            "    name='image_folder',\n",
            "    version=1.0.0,\n",
            "    description='Generic image classification dataset.',\n",
            "    homepage='https://www.tensorflow.org/datasets/catalog/image_folder',\n",
            "    features=FeaturesDict({\n",
            "        'image': Image(shape=(None, None, 3), dtype=tf.uint8),\n",
            "        'image/filename': Text(shape=(), dtype=tf.string),\n",
            "        'label': ClassLabel(shape=(), dtype=tf.int64, num_classes=11),\n",
            "    }),\n",
            "    total_num_examples=1170,\n",
            "    splits={\n",
            "        'test': 160,\n",
            "        'train': 1010,\n",
            "    },\n",
            "    supervised_keys=('image', 'label'),\n",
            "    citation=\"\"\"\"\"\",\n",
            "    redistribution_info=,\n",
            ")\n",
            "\n"
          ]
        }
      ]
    },
    {
      "cell_type": "markdown",
      "source": [
        "to preprocess the data pipeline"
      ],
      "metadata": {
        "id": "taBRdtuTc2lN"
      }
    },
    {
      "cell_type": "code",
      "source": [
        "\n",
        "import numpy as np\n",
        "\n",
        "\n",
        "def prepare_coco_data(mnist):\n",
        "  #flatten the images into vectors\n",
        "  mnist = mnist.map(lambda img, target: (tf.image.resize(img, [64,64],\n",
        "                                         method = tf.image.ResizeMethod.BILINEAR, \n",
        "                                         preserve_aspect_ratio=False),      target))\n",
        "  \n",
        "  #convert data from uint8 to float32\n",
        "  mnist = mnist.map(lambda img, target: (tf.cast(img, tf.float32), target))\n",
        "  #sloppy input normalization, just bringing image values from range [0, 255] to [-1, 1]\n",
        "  mnist = mnist.map(lambda img, target: ((img/128.)-1., target))\n",
        "  #create one-hot targets\n",
        "  mnist = mnist.map(lambda img, target: (img, tf.one_hot(target, depth=10)))\n",
        "  #cache this progress in memory, as there is no need to redo it; it is deterministic after all\n",
        "  mnist = mnist.cache()\n",
        "  #shuffle, batch, prefetch\n",
        "  mnist = mnist.shuffle(1000)\n",
        "  mnist = mnist.batch(32)\n",
        "  mnist = mnist.prefetch(20)\n",
        "  #return preprocessed dataset\n",
        "  return mnist\n",
        "\n",
        "train_dataset = train_ds.apply(prepare_coco_data)\n",
        "test_dataset = test_ds.apply(prepare_coco_data)"
      ],
      "metadata": {
        "id": "4kCdl0hlLPtA"
      },
      "execution_count": 3,
      "outputs": []
    },
    {
      "cell_type": "markdown",
      "source": [
        "build the model(demo, just to test the data)"
      ],
      "metadata": {
        "id": "TK2J442Ac1gd"
      }
    },
    {
      "cell_type": "code",
      "source": [
        "from tensorflow.keras.layers import Dense\n",
        "\n",
        "\n",
        "class MyModel(tf.keras.Model):\n",
        "    \n",
        "    def __init__(self):\n",
        "        super(MyModel, self).__init__() # input 128 x 128 x 3\n",
        "        self.conv_1 = tf.keras.layers.Conv2D(filters=36, kernel_size=(2,2), strides=(2, 2),activation=tf.nn.relu) # 64x 64x 36\n",
        "        self.max_pool = tf.keras.layers.MaxPool2D(pool_size=(2,2) ,strides=(2, 2))# 32 x 32 x 36\n",
        "        # self.dense1 = tf.keras.layers.conv2D(filters=36, kernel_size=(2,2), strides=(2, 2), padding=\"valid\",activation=tf.nn.relu)\n",
        "        self.conv_2 = tf.keras.layers.Conv2D(filters=16, kernel_size=(3,3), strides=(1, 1),activation=tf.nn.relu) # 30 x 30 x 16\n",
        "\n",
        "        self.flatten = tf.keras.layers.GlobalAveragePooling2D()\n",
        "        self.out = tf.keras.layers.Dense(10, activation=tf.nn.softmax)\n",
        "        \n",
        "\n",
        "    @tf.function\n",
        "    def call(self, inputs):\n",
        "        x = self.conv_1(inputs)\n",
        "        x = self.max_pool(x)\n",
        "        x = self.conv_2(x)\n",
        "        x = self.flatten(x)\n",
        "        x = self.out(x)\n",
        "        return x\n",
        "    "
      ],
      "metadata": {
        "id": "qcHhBzgbLPwB"
      },
      "execution_count": 4,
      "outputs": []
    },
    {
      "cell_type": "markdown",
      "source": [
        "train steps, takem from complete model train file"
      ],
      "metadata": {
        "id": "BAmS9Dxyc8Sl"
      }
    },
    {
      "cell_type": "code",
      "source": [
        "def train_step(model, input, target, loss_function, optimizer):\n",
        "  # loss_object and optimizer_object are instances of respective tensorflow classes\n",
        "  with tf.GradientTape() as tape:\n",
        "    prediction = model(input)\n",
        "    loss = loss_function(target, prediction)\n",
        "    gradients = tape.gradient(loss, model.trainable_variables)\n",
        "  optimizer.apply_gradients(zip(gradients, model.trainable_variables))\n",
        "  return loss\n",
        "\n",
        "def test(model, test_data, loss_function):\n",
        "  # test over complete test data\n",
        "\n",
        "  test_accuracy_aggregator = []\n",
        "  test_loss_aggregator = []\n",
        "\n",
        "  for (input, target) in test_data:\n",
        "    prediction = model(input)\n",
        "    sample_test_loss = loss_function(target, prediction)\n",
        "    sample_test_accuracy =  np.argmax(target, axis=1) == np.argmax(prediction, axis=1)\n",
        "    sample_test_accuracy = np.mean(sample_test_accuracy)\n",
        "    test_loss_aggregator.append(sample_test_loss.numpy())\n",
        "    test_accuracy_aggregator.append(np.mean(sample_test_accuracy))\n",
        "\n",
        "  test_loss = tf.reduce_mean(test_loss_aggregator)\n",
        "  test_accuracy = tf.reduce_mean(test_accuracy_aggregator)\n",
        "\n",
        "  return test_loss, test_accuracy"
      ],
      "metadata": {
        "id": "zKLJyE2vLPxu"
      },
      "execution_count": 5,
      "outputs": []
    },
    {
      "cell_type": "code",
      "source": [
        "tf.keras.backend.clear_session()\n",
        "\n",
        "#For showcasing we only use a subset of the training and test data (generally use all of the available data!)\n",
        "train_dataset = train_dataset.take(100)\n",
        "test_dataset = test_dataset.take(10)\n",
        "\n",
        "### Hyperparameters\n",
        "num_epochs = 50\n",
        "learning_rate = 0.0001\n",
        "\n",
        "# Initialize the model.\n",
        "model = MyModel()\n",
        "# Initialize the loss: categorical cross entropy. Check out 'tf.keras.losses'.\n",
        "cross_entropy_loss = tf.keras.losses.CategoricalCrossentropy()\n",
        "# Initialize the optimizer: SGD with default parameters. Check out 'tf.keras.optimizers'\n",
        "optimizer = tf.keras.optimizers.SGD(learning_rate)\n",
        "\n",
        "# Initialize lists for later visualization.\n",
        "train_losses = []\n",
        "\n",
        "test_losses = []\n",
        "test_accuracies = []\n",
        "\n",
        "#testing once before we begin\n",
        "test_loss, test_accuracy = test(model, test_dataset, cross_entropy_loss)\n",
        "test_losses.append(test_loss)\n",
        "test_accuracies.append(test_accuracy)\n",
        "\n",
        "#check how model performs on train data once before we begin\n",
        "train_loss, _ = test(model, train_dataset, cross_entropy_loss)\n",
        "train_losses.append(train_loss)\n",
        "\n",
        "# We train for num_epochs epochs.\n",
        "for epoch in range(num_epochs):\n",
        "    print(f'Epoch: {str(epoch)} starting with accuracy {test_accuracies[-1]}')\n",
        "\n",
        "    #training (and checking in with training)\n",
        "    epoch_loss_agg = []\n",
        "    for input,target in train_dataset:\n",
        "        train_loss = train_step(model, input, target, cross_entropy_loss, optimizer)\n",
        "        epoch_loss_agg.append(train_loss)\n",
        "    \n",
        "    #track training loss\n",
        "    train_losses.append(tf.reduce_mean(epoch_loss_agg))\n",
        "\n",
        "    #testing, so we can track accuracy and test loss\n",
        "    test_loss, test_accuracy = test(model, test_dataset, cross_entropy_loss)\n",
        "    test_losses.append(test_loss)\n",
        "    test_accuracies.append(test_accuracy)"
      ],
      "metadata": {
        "colab": {
          "base_uri": "https://localhost:8080/"
        },
        "id": "tSyXVojZLPzq",
        "outputId": "4de5c037-4102-467e-9232-584e2cab7305"
      },
      "execution_count": 20,
      "outputs": [
        {
          "output_type": "stream",
          "name": "stdout",
          "text": [
            "Epoch: 0 starting with accuracy 0.11875\n",
            "Epoch: 1 starting with accuracy 0.11875\n",
            "Epoch: 2 starting with accuracy 0.11875\n",
            "Epoch: 3 starting with accuracy 0.11875\n",
            "Epoch: 4 starting with accuracy 0.1125\n",
            "Epoch: 5 starting with accuracy 0.10625\n",
            "Epoch: 6 starting with accuracy 0.10625\n",
            "Epoch: 7 starting with accuracy 0.10625\n",
            "Epoch: 8 starting with accuracy 0.10625\n",
            "Epoch: 9 starting with accuracy 0.10625\n",
            "Epoch: 10 starting with accuracy 0.11875\n",
            "Epoch: 11 starting with accuracy 0.11875\n",
            "Epoch: 12 starting with accuracy 0.11875\n",
            "Epoch: 13 starting with accuracy 0.11875\n",
            "Epoch: 14 starting with accuracy 0.125\n",
            "Epoch: 15 starting with accuracy 0.11875\n",
            "Epoch: 16 starting with accuracy 0.11875\n",
            "Epoch: 17 starting with accuracy 0.11875\n",
            "Epoch: 18 starting with accuracy 0.1125\n",
            "Epoch: 19 starting with accuracy 0.1125\n",
            "Epoch: 20 starting with accuracy 0.1125\n",
            "Epoch: 21 starting with accuracy 0.1125\n",
            "Epoch: 22 starting with accuracy 0.1125\n",
            "Epoch: 23 starting with accuracy 0.1125\n",
            "Epoch: 24 starting with accuracy 0.1125\n",
            "Epoch: 25 starting with accuracy 0.1125\n",
            "Epoch: 26 starting with accuracy 0.1125\n",
            "Epoch: 27 starting with accuracy 0.10625\n",
            "Epoch: 28 starting with accuracy 0.10625\n",
            "Epoch: 29 starting with accuracy 0.10625\n",
            "Epoch: 30 starting with accuracy 0.10625\n",
            "Epoch: 31 starting with accuracy 0.10625\n",
            "Epoch: 32 starting with accuracy 0.1\n",
            "Epoch: 33 starting with accuracy 0.09375\n",
            "Epoch: 34 starting with accuracy 0.09375\n",
            "Epoch: 35 starting with accuracy 0.1\n",
            "Epoch: 36 starting with accuracy 0.1\n",
            "Epoch: 37 starting with accuracy 0.1\n",
            "Epoch: 38 starting with accuracy 0.1\n",
            "Epoch: 39 starting with accuracy 0.1\n",
            "Epoch: 40 starting with accuracy 0.1\n",
            "Epoch: 41 starting with accuracy 0.10625\n",
            "Epoch: 42 starting with accuracy 0.1125\n",
            "Epoch: 43 starting with accuracy 0.1125\n",
            "Epoch: 44 starting with accuracy 0.1125\n",
            "Epoch: 45 starting with accuracy 0.1125\n",
            "Epoch: 46 starting with accuracy 0.1125\n",
            "Epoch: 47 starting with accuracy 0.1125\n",
            "Epoch: 48 starting with accuracy 0.1125\n",
            "Epoch: 49 starting with accuracy 0.1125\n"
          ]
        }
      ]
    },
    {
      "cell_type": "code",
      "source": [
        "import matplotlib.pyplot as plt\n",
        "\n",
        "# Visualize accuracy and loss for training and test data.\n",
        "plt.figure()\n",
        "line1, = plt.plot(train_losses)\n",
        "line2, = plt.plot(test_losses)\n",
        "line3, = plt.plot(test_accuracies)\n",
        "plt.xlabel(\"Training steps\")\n",
        "plt.ylabel(\"Loss/Accuracy\")\n",
        "plt.legend((line1,line2, line3),(\"training\",\"test\", \"test accuracy\"))\n",
        "plt.show()"
      ],
      "metadata": {
        "colab": {
          "base_uri": "https://localhost:8080/",
          "height": 279
        },
        "id": "VoX7R4ZiXHtT",
        "outputId": "5ceed305-17d2-49fa-df06-2c0175586537"
      },
      "execution_count": 21,
      "outputs": [
        {
          "output_type": "display_data",
          "data": {
            "text/plain": [
              "<Figure size 432x288 with 1 Axes>"
            ],
            "image/png": "[encoded data removed]"
          },
          "metadata": {
            "needs_background": "light"
          }
        }
      ]
    },
    {
      "cell_type": "code",
      "source": [
        ""
      ],
      "metadata": {
        "id": "ZG-8KrHmXHwK"
      },
      "execution_count": null,
      "outputs": []
    }
  ]
}